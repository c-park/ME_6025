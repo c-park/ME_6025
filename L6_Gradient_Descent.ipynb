{
 "cells": [
  {
   "cell_type": "markdown",
   "metadata": {},
   "source": [
    "# Introduction to Optimization \n",
    "# Lecture 6: Gradient Descent\n",
    "*MATH 5770/6640 / ME EN 6025, University of Utah*\n",
    "* Here we compare the steepest decent method on a quadratic function \n",
    "$$ \n",
    "f(x) = x^tAx\n",
    "$$ \n",
    "for three different choices of line search:\n",
    " 1. exact line search\n",
    " + constant step size\n",
    " + backtracking line search\n",
    "+ See Beck Ch. 4, especially Examples 4.6, 4.8, 4.9"
   ]
  },
  {
   "cell_type": "code",
   "execution_count": null,
   "metadata": {
    "collapsed": true
   },
   "outputs": [],
   "source": [
    "# imports and setup\n",
    "import numpy as np\n",
    "from numpy.linalg import norm\n",
    "\n",
    "import matplotlib.pyplot as plt\n",
    "%matplotlib inline  \n",
    "plt.rcParams['figure.figsize'] = (10, 6)"
   ]
  },
  {
   "cell_type": "code",
   "execution_count": null,
   "metadata": {
    "collapsed": true
   },
   "outputs": [],
   "source": [
    "# define a quadratic function\n",
    "A = np.array([[5, 0], [0, 1]]) \n",
    "f = lambda x: x@A@x\n",
    "g = lambda x: 2*A@x\n",
    "\n",
    "# initial point\n",
    "x = np.array([1,1]) \n",
    "xs = x # we'll save history of iterates\n",
    "\n",
    "# convergence tolerance \n",
    "epsilon = 1e-8\n",
    "\n",
    "iter=0\n",
    "fun_val=f(x)\n",
    "grad=g(x)\n",
    "lineSearch = 'exact'\n",
    "while (norm(grad)>epsilon):\n",
    "    iter=iter+1\n",
    "    \n",
    "    if lineSearch == 'exact': # exact line search \n",
    "        t = norm(grad)**2/(2*grad@A@grad) \n",
    "    elif lineSearch == 'constant': # constant stepsize\n",
    "        t = .01\n",
    "    elif lineSearch == 'backtrack': # backtracking line search\n",
    "        s = 1; alpha = .5; beta = .5;\n",
    "        t=s\n",
    "        while (fun_val-f(x-t*grad)<alpha*t*norm(grad)**2):\n",
    "            t=beta*t\n",
    "    else:\n",
    "        error('unknown lineSearch')\n",
    "        \n",
    "    # define new point x = x + t d, d = - grad\n",
    "    x=x-t*grad \n",
    "\n",
    "    xs = np.vstack((xs,x))\n",
    "    fun_val= f(x)\n",
    "    grad = g(x)\n",
    "    print('iter_number = '+ str(iter) + ', norm_grad = ' + str(norm(grad)) + ', fun_val = ' + str(fun_val))\n",
    "\n",
    "    \n",
    "# plot the iterations \n",
    "x = np.linspace(-1.1,1.1,100) \n",
    "[X,Y] = np.meshgrid(x,x) \n",
    "\n",
    "Z = np.zeros(X.shape)\n",
    "for ii in np.arange(X.shape[0]):\n",
    "    for jj in np.arange(X.shape[1]):\n",
    "        Z[ii,jj] = f( [X[ii,jj],Y[ii,jj]] )    \n",
    "        \n",
    "plt.contour(x,x,Z,20)        \n",
    "plt.plot(xs[:,0],xs[:,1],c='k',marker='*')\n",
    "\n",
    "plt.xlabel('$x_1$')\n",
    "plt.ylabel('$x_2$')\n",
    "plt.axis('equal')\n",
    "plt.show()"
   ]
  },
  {
   "cell_type": "markdown",
   "metadata": {},
   "source": [
    "Some observations:\n",
    "+ For all choices of line search, the gradient method 'zig-zags'\n",
    "+ As one might expect, the exact line search converges in the least number of iterations, followed by the backtracking line search and the constant step size\n"
   ]
  }
 ],
 "metadata": {
  "anaconda-cloud": {},
  "kernelspec": {
   "display_name": "Python 3",
   "language": "python",
   "name": "python3"
  },
  "language_info": {
   "codemirror_mode": {
    "name": "ipython",
    "version": 3
   },
   "file_extension": ".py",
   "mimetype": "text/x-python",
   "name": "python",
   "nbconvert_exporter": "python",
   "pygments_lexer": "ipython3",
   "version": "3.6.5"
  }
 },
 "nbformat": 4,
 "nbformat_minor": 1
}
