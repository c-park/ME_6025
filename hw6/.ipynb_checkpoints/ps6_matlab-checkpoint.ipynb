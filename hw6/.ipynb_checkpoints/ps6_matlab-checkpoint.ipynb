{
 "cells": [
  {
   "cell_type": "markdown",
   "metadata": {},
   "source": [
    "# Problem Set 6\n",
    "#### Cade Parkison\n",
    "#### u0939163\n",
    "\n",
    "---"
   ]
  },
  {
   "cell_type": "markdown",
   "metadata": {},
   "source": [
    "### Problem 3\n",
    "\n",
    "**Input Data:**"
   ]
  },
  {
   "cell_type": "code",
   "execution_count": 1,
   "metadata": {},
   "outputs": [
    {
     "name": "stdout",
     "output_type": "stream",
     "text": [
      "\n"
     ]
    },
    {
     "data": {
      "image/png": "[encoded data removed]",
      "text/plain": [
       "<IPython.core.display.Image object>"
      ]
     },
     "metadata": {},
     "output_type": "display_data"
    }
   ],
   "source": [
    "rand('seed', 314);\n",
    "x = rand(40, 1); y = rand(40, 1);\n",
    "class = [ 2*x < y+0.5 ] + 1 ;\n",
    "A1 = [ x(find(class==1)) , y(find(class==1)) ] ;\n",
    "A2 = [ x(find(class==2)) , y(find(class==2)) ] ;\n",
    "figure(1 ); hold on ;\n",
    "plot(A1(:, 1),A1(: ,2), '*', 'MarkerSize', 6 );\n",
    "plot(A2(:, 1),A2(:,2), 'd', 'MarkerSize', 6 );"
   ]
  },
  {
   "cell_type": "markdown",
   "metadata": {},
   "source": [
    "---\n",
    "**Call to CVX:**"
   ]
  },
  {
   "cell_type": "code",
   "execution_count": 8,
   "metadata": {},
   "outputs": [
    {
     "name": "stdout",
     "output_type": "stream",
     "text": [
      "Warning: A non-empty cvx problem already exists in this scope.\n",
      "   It is being overwritten.\n",
      "> In cvxprob (line 28)\n",
      "  In cvx_begin (line 41)\n",
      " \n",
      "Calling SDPT3 4.0: 40 variables, 3 equality constraints\n",
      "   For improved efficiency, SDPT3 is solving the dual problem.\n",
      "------------------------------------------------------------\n",
      "\n",
      " num. of constraints =  3\n",
      " dim. of linear var  = 40\n",
      "*******************************************************************\n",
      "   SDPT3: Infeasible path-following algorithms\n",
      "*******************************************************************\n",
      " version  predcorr  gam  expon  scale_data\n",
      "    NT      1      0.000   1        0    \n",
      "it pstep dstep pinfeas dinfeas  gap      prim-obj      dual-obj    cputime\n",
      "-------------------------------------------------------------------\n",
      " 0|0.000|0.000|8.2e+01|9.5e+00|4.0e+03|-4.000000e+02  0.000000e+00| 0:0:00| chol  1  1 \n",
      " 1|0.664|0.958|2.7e+01|4.8e-01|1.3e+03|-2.302054e+02  0.000000e+00| 0:0:01| chol  1  1 \n",
      " 2|0.947|1.000|1.5e+00|8.6e-03|5.3e+01|-2.867473e+01  0.000000e+00| 0:0:01| chol  1  1 \n",
      " 3|0.988|1.000|1.7e-02|8.6e-04|6.4e-01|-3.431845e-01  0.000000e+00| 0:0:01| chol  1  1 \n",
      " 4|0.989|1.000|1.9e-04|3.6e-03|7.1e-03|-3.794117e-03  0.000000e+00| 0:0:01| chol  1  1 \n",
      " 5|0.989|1.000|2.2e-06|4.7e-05|8.1e-05|-4.272904e-05  0.000000e+00| 0:0:01| chol  1  1 \n",
      " 6|0.989|1.000|2.4e-08|4.3e-07|8.9e-07|-4.698507e-07  0.000000e+00| 0:0:01| chol  1  1 \n",
      " 7|0.972|1.000|6.7e-10|4.8e-09|2.9e-08|-9.053445e-09  0.000000e+00| 0:0:01| chol  1  1 \n",
      " 8|0.970|1.000|2.0e-11|1.3e-10|9.5e-10|-2.134723e-10  0.000000e+00| 0:0:01|\n",
      "  stop: max(relative gap, infeasibilities) < 1.49e-08\n",
      "-------------------------------------------------------------------\n",
      " number of iterations   =  8\n",
      " primal objective value = -2.13472264e-10\n",
      " dual   objective value =  0.00000000e+00\n",
      " gap := trace(XZ)       = 9.51e-10\n",
      " relative gap           = 9.51e-10\n",
      " actual relative gap    = -2.13e-10\n",
      " rel. primal infeas (scaled problem)   = 2.03e-11\n",
      " rel. dual     \"        \"       \"      = 1.34e-10\n",
      " rel. primal infeas (unscaled problem) = 0.00e+00\n",
      " rel. dual     \"        \"       \"      = 0.00e+00\n",
      " norm(X), norm(y), norm(Z) = 4.9e-11, 5.8e+01, 8.7e+01\n",
      " norm(A), norm(b), norm(C) = 9.2e+00, 1.0e+00, 7.3e+00\n",
      " Total CPU time (secs)  = 0.99  \n",
      " CPU time per iteration = 0.12  \n",
      " termination code       =  0\n",
      " DIMACS: 2.0e-11  0.0e+00  4.9e-10  0.0e+00  -2.1e-10  9.5e-10\n",
      "-------------------------------------------------------------------\n",
      " \n",
      "------------------------------------------------------------\n",
      "Status: Solved\n",
      "Optimal value (cvx_optval): +2.13472e-10\n",
      " \n",
      "\n"
     ]
    }
   ],
   "source": [
    "cvx_begin\n",
    "    variables a(2) b(1)\n",
    "    A1*a - b >= 1;\n",
    "    A2*a - b <= -1;\n",
    "cvx_end"
   ]
  }
 ],
 "metadata": {
  "kernelspec": {
   "display_name": "Matlab",
   "language": "matlab",
   "name": "matlab"
  },
  "language_info": {
   "codemirror_mode": "octave",
   "file_extension": ".m",
   "help_links": [
    {
     "text": "MetaKernel Magics",
     "url": "https://github.com/calysto/metakernel/blob/master/metakernel/magics/README.md"
    }
   ],
   "mimetype": "text/x-octave",
   "name": "matlab",
   "version": "0.15.2"
  }
 },
 "nbformat": 4,
 "nbformat_minor": 2
}
