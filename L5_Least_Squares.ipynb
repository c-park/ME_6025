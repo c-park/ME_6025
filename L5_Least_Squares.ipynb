{
 "cells": [
  {
   "cell_type": "markdown",
   "metadata": {},
   "source": [
    "# Introduction to Optimization \n",
    "# Lecture 5: Least squares (Beck Ch. 3)\n",
    "*MATH 5770/6640 / ME EN 6025, University of Utah*\n",
    "\n",
    "* See also Amir Beck's lecture notes [here](https://web.iem.technion.ac.il/images/user-files/becka/lec3_least_squares_layers.pdf?58bed9cc)."
   ]
  },
  {
   "cell_type": "markdown",
   "metadata": {},
   "source": [
    "## Linear Least Squares (Beck Ch. 3.1)\n",
    "Consider the system\n",
    "$$\n",
    "Ax = b \n",
    "$$\n",
    "where $A \\in \\mathbb R^{m\\times n}$ and $b \\in \\mathbb R^m$. Assume $m \\geq n$ and that $\\textrm{rank}(A) = n$, *i.e.*, $A$ has full column rank.\n",
    "\n",
    "If $m = n$, the solution is given by $x^\\star = A^{-1}b$.\n",
    "\n",
    "If $m>n$, the the system is usually inconsistent and we consider the *Least Squares Problem*:\n",
    "$$\n",
    "\\min_{x \\in \\mathbb R^n} \\ \\|Ax - b \\|^2.\n",
    "$$\n",
    "By Lemma 2.41, there is a strict global minimum point satisfying the *Normal Equations*,\n",
    "$$\n",
    "A^t A x^\\star = A^t b.\n",
    "$$"
   ]
  },
  {
   "cell_type": "markdown",
   "metadata": {},
   "source": [
    "## Example 3.1. \n",
    "Solve the inconsistent linear system\n",
    "\\begin{align*} \n",
    "x_1 + 2 x_2 &= 0 \\\\\n",
    "2 x_1 + x_2 &= 1 \\\\\n",
    "3 x_1 + 2 x_2 &= 1\n",
    "\\end{align*}\n",
    "using the [numpy linear algebra package](https://docs.scipy.org/doc/numpy/reference/routines.linalg.html)."
   ]
  },
  {
   "cell_type": "code",
   "execution_count": 1,
   "metadata": {
    "collapsed": true
   },
   "outputs": [],
   "source": [
    "import numpy as np"
   ]
  },
  {
   "cell_type": "markdown",
   "metadata": {},
   "source": [
    "Define\n",
    "$$\n",
    "A = \\begin{pmatrix}\n",
    "1 & 2 \\\\\n",
    "2 & 1 \\\\\n",
    "3 & 2\n",
    "\\end{pmatrix}\n",
    "\\quad \\textrm{and} \\quad\n",
    "b = \\begin{pmatrix}\n",
    "0 \\\\ 1 \\\\ 1\n",
    "\\end{pmatrix}. \n",
    "$$"
   ]
  },
  {
   "cell_type": "code",
   "execution_count": 2,
   "metadata": {
    "collapsed": true
   },
   "outputs": [],
   "source": [
    "A = np.array([[1, 2], [2, 1], [3, 2]])\n",
    "b = np.array([0, 1, 1])"
   ]
  },
  {
   "cell_type": "markdown",
   "metadata": {},
   "source": [
    "Solve normal equations \n",
    "$$\n",
    "A^tA x = A^tb\n",
    "$$\n",
    "using the numpy [linear solver](https://docs.scipy.org/doc/numpy/reference/generated/numpy.linalg.solve.html#numpy.linalg.solve)."
   ]
  },
  {
   "cell_type": "code",
   "execution_count": 3,
   "metadata": {},
   "outputs": [
    {
     "ename": "SyntaxError",
     "evalue": "invalid syntax (<ipython-input-3-e47b8a54f7be>, line 1)",
     "output_type": "error",
     "traceback": [
      "\u001b[1;36m  File \u001b[1;32m\"<ipython-input-3-e47b8a54f7be>\"\u001b[1;36m, line \u001b[1;32m1\u001b[0m\n\u001b[1;33m    x = np.linalg.solve(A.transpose()@A, A.transpose()@b)\u001b[0m\n\u001b[1;37m                                     ^\u001b[0m\n\u001b[1;31mSyntaxError\u001b[0m\u001b[1;31m:\u001b[0m invalid syntax\n"
     ]
    }
   ],
   "source": [
    "x = np.linalg.solve(A.transpose()@A, A.transpose()@b)\n",
    "print(x)"
   ]
  },
  {
   "cell_type": "markdown",
   "metadata": {},
   "source": [
    "Check against the exact solution, \n",
    "$$\n",
    "x^\\star = \\begin{pmatrix} \\frac{15}{26} \\\\ -\\frac{8}{26} \\end{pmatrix}.\n",
    "$$"
   ]
  },
  {
   "cell_type": "code",
   "execution_count": null,
   "metadata": {
    "collapsed": true
   },
   "outputs": [],
   "source": [
    "x_exact_sol = np.array([15/26, -8/26])\n",
    "print(np.linalg.norm(x-x_exact_sol))"
   ]
  },
  {
   "cell_type": "markdown",
   "metadata": {},
   "source": [
    "Does Ax = b? \n",
    "\n",
    "We can compute the residual, \n",
    "$$\n",
    "r = Ax - b,\n",
    "$$ \n",
    "and measure the norm."
   ]
  },
  {
   "cell_type": "code",
   "execution_count": null,
   "metadata": {
    "collapsed": true
   },
   "outputs": [],
   "source": [
    "r = A@x - b\n",
    "print(np.linalg.norm(r))"
   ]
  },
  {
   "cell_type": "markdown",
   "metadata": {},
   "source": [
    "A better (why?) measure of the error is the relative residual, \n",
    "$$\n",
    "\\frac{\\|r\\|}{\\|b\\|}.\n",
    "$$"
   ]
  },
  {
   "cell_type": "code",
   "execution_count": null,
   "metadata": {
    "collapsed": true
   },
   "outputs": [],
   "source": [
    "print(np.linalg.norm(r)/np.linalg.norm(b))"
   ]
  },
  {
   "cell_type": "markdown",
   "metadata": {},
   "source": [
    "**Question:** Why doesn't $r=0$? \n",
    "\n",
    "\n",
    "It is slightly preferable to use the numpy [least squares solver](https://docs.scipy.org/doc/numpy/reference/generated/numpy.linalg.lstsq.html#numpy.linalg.lstsq) to compute the solution. "
   ]
  },
  {
   "cell_type": "code",
   "execution_count": null,
   "metadata": {
    "collapsed": true
   },
   "outputs": [],
   "source": [
    "x_LS = np.linalg.lstsq(A, b)[0]\n",
    "print(x_LS)\n",
    "print(np.linalg.norm(x_LS - x_exact_sol))"
   ]
  },
  {
   "cell_type": "markdown",
   "metadata": {},
   "source": [
    "## Data Fitting (Beck Ch. 3.2) \n",
    "Consider data \n",
    "$$\n",
    "(s_i, t_i), \\qquad \\textrm{for} \\ i = 1,..., m, \n",
    "$$\n",
    "where $s_i \\in \\mathbb R$ and $t_i \\in \\mathbb R$. \n",
    "\n",
    "Assume that an approximate *affine* relation holds \n",
    "$$\n",
    "t_i \\approx x_0 + s_i x_1 , \\qquad i = 1,...,m\n",
    "$$\n",
    "In vector notation, this is equivalent to \n",
    "$$\n",
    "t = \\begin{pmatrix} 1 & s \\end{pmatrix} \n",
    "\\begin{pmatrix} x_0 \\\\ x_1 \\end{pmatrix}. \n",
    "$$\n",
    "We can find a solution using least squares."
   ]
  },
  {
   "cell_type": "markdown",
   "metadata": {},
   "source": [
    "Generate some test data."
   ]
  },
  {
   "cell_type": "code",
   "execution_count": 5,
   "metadata": {
    "collapsed": true
   },
   "outputs": [],
   "source": [
    "m = 100\n",
    "s = np.linspace(0,10,m)\n",
    "t = 3*s + 5 + np.random.randn(s.shape[0])"
   ]
  },
  {
   "cell_type": "markdown",
   "metadata": {},
   "source": [
    "Lets use the [`scatter`](https://matplotlib.org/api/_as_gen/matplotlib.pyplot.scatter.html) function in matplotlib to plot the generated test data."
   ]
  },
  {
   "cell_type": "code",
   "execution_count": 6,
   "metadata": {
    "collapsed": true
   },
   "outputs": [],
   "source": [
    "import matplotlib.pyplot as plt\n",
    "%matplotlib inline  \n",
    "plt.rcParams['figure.figsize'] = (10, 6)"
   ]
  },
  {
   "cell_type": "code",
   "execution_count": 7,
   "metadata": {},
   "outputs": [
    {
     "data": {
      "image/png": "[encoded data removed]",
      "text/plain": [
       "<matplotlib.figure.Figure at 0x8ac15c0>"
      ]
     },
     "metadata": {},
     "output_type": "display_data"
    }
   ],
   "source": [
    "plt.scatter(s,t,c='b',marker='*',label='data')\n",
    "\n",
    "plt.legend(numpoints=1,loc=4)\n",
    "plt.xlabel('s')\n",
    "plt.ylabel('t')\n",
    "plt.show()"
   ]
  },
  {
   "cell_type": "markdown",
   "metadata": {},
   "source": [
    "Solve the normal equations to find the best linear fit."
   ]
  },
  {
   "cell_type": "code",
   "execution_count": 15,
   "metadata": {},
   "outputs": [
    {
     "name": "stdout",
     "output_type": "stream",
     "text": [
      "(100L, 2L)\n",
      "(2L,)\n",
      "('The y-intercept is ', '5.05392211472')\n",
      "('The slope is ', '3.01018762289')\n"
     ]
    }
   ],
   "source": [
    "A = np.stack((np.ones(s.shape), s),axis=-1)\n",
    "#A = np.stack((np.ones(s.shape), np.ones(s.shape), s),axis=-1)\n",
    "\n",
    "print(A.shape)\n",
    "\n",
    "x = np.linalg.lstsq(A,t)[0]\n",
    "print(x.shape)\n",
    "print('The y-intercept is ', str(x[0]))\n",
    "print('The slope is ', str(x[1]))"
   ]
  },
  {
   "cell_type": "markdown",
   "metadata": {},
   "source": [
    "Plot the data and best linear fit."
   ]
  },
  {
   "cell_type": "code",
   "execution_count": 16,
   "metadata": {
    "scrolled": true
   },
   "outputs": [
    {
     "data": {
      "image/png": "[encoded data removed]",
      "text/plain": [
       "<matplotlib.figure.Figure at 0x8ac1278>"
      ]
     },
     "metadata": {},
     "output_type": "display_data"
    }
   ],
   "source": [
    "plt.scatter(s,t,c='b',marker='*',label='data')\n",
    "plt.plot(s,x[0]+x[1]*s,c='k',label='linear fit')\n",
    "\n",
    "plt.legend(numpoints=1,loc=4)\n",
    "plt.xlabel('s')\n",
    "plt.ylabel('t')\n",
    "plt.show()"
   ]
  },
  {
   "cell_type": "markdown",
   "metadata": {},
   "source": [
    "## Regularized least squares and denoising (Beck Ch. 3.3 and 3.4)\n",
    "\n",
    "Here the goal is to denoise a noisy signal b by solving the *regularized least squares problem*,\n",
    "$$\n",
    "\\min_x  \\ \\|x-b\\|^2 + \\lambda R(x).\n",
    "$$\n",
    "Here, notice that $A = I$ (the identity) and we have added a second term, called a *regularization term*. The constant $\\lambda >0$ is called the regularization parameter. The *regularization function*, $R(x)$ is chosen to \"regularize\" the solution. \n",
    "\n",
    "In this example, we will choose \n",
    "$$\n",
    "R(x) = \\| D x \\|^2 \n",
    "$$ \n",
    "where $D\\in \\mathbb R^{p \\times n}$ is a given matrix chosen so that the solution is \"smoother\" than the original data. \n",
    "\n",
    "Stationary points of this regularized least squares problem satisfy \n",
    "$$\n",
    "(I + \\lambda D^t D) x = b. \n",
    "$$\n",
    "When does a solution exist? (HW)"
   ]
  },
  {
   "cell_type": "markdown",
   "metadata": {},
   "source": [
    "Generate and plot some noisy data"
   ]
  },
  {
   "cell_type": "code",
   "execution_count": null,
   "metadata": {
    "collapsed": true
   },
   "outputs": [],
   "source": [
    "n = 200;\n",
    "t = np.linspace(0,4,n)\n",
    "x = np.sin(t) + t*pow(np.cos(t),2)\n",
    "b = x + 0.05*np.random.randn(n)\n",
    "\n",
    "plt.plot(t,x,c='k',label='signal')\n",
    "plt.plot(t,b,c='b',marker='.',label='sampled signal with noise')\n",
    "plt.xlabel('t')\n",
    "plt.legend(numpoints=1,loc=4)\n",
    "plt.show() "
   ]
  },
  {
   "cell_type": "markdown",
   "metadata": {},
   "source": [
    "We will solve a regularized least squares problem to try to recover the signal from the noisy data. \n",
    "\n",
    "**Question:** How should we choose the matrix $D$?\n",
    "\n",
    "If we assume that the data is \"smooth\" then this means that the difference between consecutive data points is small. We can take \n",
    "$$\n",
    "R(x) = \\sum_{i=1}^{n-1} (x_{i+1} - x_i)^2 = \\| D x \\|^2\n",
    "$$\n",
    "where $D \\in \\mathbb R^{(n-1)\\times n}$ is the matrix\n",
    "$$\n",
    "D = \\begin{pmatrix}\n",
    "1 & -1 & 0 & 0 & \\cdots & 0 & 0 \\\\\n",
    "0 & 1 & -1 & 0 & \\cdots & 0 & 0 \\\\\n",
    "0 & 0 & 1 & -1 & \\cdots & 0 & 0 \\\\\n",
    "\\vdots & \\vdots & \\vdots & \\vdots & & \\vdots & \\vdots \\\\\n",
    "0 & 0 & 0 & 0 & \\cdots & 1 & -1 \n",
    "\\end{pmatrix}.\n",
    "$$\n",
    "We will construct this matrix using the [`sparse`](https://docs.scipy.org/doc/scipy/reference/sparse.html) function in scipy."
   ]
  },
  {
   "cell_type": "code",
   "execution_count": null,
   "metadata": {
    "collapsed": true
   },
   "outputs": [],
   "source": [
    "import scipy as sp\n",
    "from scipy import sparse\n",
    "\n",
    "D = sp.sparse.diags([np.ones(n-1), -np.ones(n-1)], [1, 0],shape=[n-1,n], format=\"csr\")\n",
    "print(D.toarray())"
   ]
  },
  {
   "cell_type": "code",
   "execution_count": null,
   "metadata": {
    "collapsed": true
   },
   "outputs": [],
   "source": [
    "lambdas = np.array([1, 10, 100, 1000])\n",
    "x_rls = np.zeros([n,lambdas.shape[0]])\n",
    "\n",
    "DtD = D.transpose()@D\n",
    "for ii in np.arange(lambdas.shape[0]):\n",
    "    x_rls[:,ii] = np.linalg.solve(np.eye(n) + lambdas[ii]*DtD,b)\n",
    "    \n",
    "print(x_rls)"
   ]
  },
  {
   "cell_type": "code",
   "execution_count": null,
   "metadata": {
    "collapsed": true
   },
   "outputs": [],
   "source": [
    "plt.figure(figsize=(12, 11))\n",
    "for ii in np.arange(lambdas.shape[0]):\n",
    "        ax = plt.subplot(2, 2, ii+1)        \n",
    "        ax.plot(t,b,c='b',marker='.',label='noisy signal')\n",
    "        ax.plot(t,x_rls[:,ii],c='r',label='regularized fit')\n",
    "        ax.set_title('lambda='+str(lambdas[ii]))\n",
    "        plt.legend(numpoints=1,loc=4)\n",
    "plt.show()"
   ]
  },
  {
   "cell_type": "markdown",
   "metadata": {
    "collapsed": true
   },
   "source": [
    "Here the choice of regularization parameter $\\lambda=10$ gives a good solution. Let's plot the original sample and compare to the regularized fit."
   ]
  },
  {
   "cell_type": "code",
   "execution_count": null,
   "metadata": {
    "collapsed": true
   },
   "outputs": [],
   "source": [
    "plt.plot(t,x,c='k',label='signal')\n",
    "#plt.plot(t,b,c='b',marker='.',label='sampled signal with noise')\n",
    "plt.plot(t,x_rls[:,1],c='r',label='regularized fit')\n",
    "plt.xlabel('t')\n",
    "plt.legend(numpoints=1,loc=4)\n",
    "plt.show() "
   ]
  },
  {
   "cell_type": "markdown",
   "metadata": {},
   "source": [
    "## Denoising an image\n",
    "The same idea of denoising a signal also works for images. Let's consider the following grayscale image of a cameraman. \n",
    "\n",
    "Here, the image is stored as a matrix with entries between 0 and 1."
   ]
  },
  {
   "cell_type": "code",
   "execution_count": null,
   "metadata": {
    "collapsed": true
   },
   "outputs": [],
   "source": [
    "from skimage import data, color, img_as_float\n",
    "\n",
    "image = img_as_float(data.camera()[::2,::2])\n",
    "print(image)\n",
    "\n",
    "plt.imshow(image,cmap=plt.cm.gray)\n",
    "plt.show()"
   ]
  },
  {
   "cell_type": "markdown",
   "metadata": {},
   "source": [
    "We add noise to the image using the \n",
    "[`random_noise`](http://scikit-image.org/docs/dev/api/skimage.util.html#skimage.util.random_noise) \n",
    "function from \n",
    "[scikit-image](https://scikit-image.org/).\n"
   ]
  },
  {
   "cell_type": "code",
   "execution_count": null,
   "metadata": {
    "collapsed": true
   },
   "outputs": [],
   "source": [
    "from skimage.util import random_noise\n",
    "\n",
    "noisy_image = random_noise(image, var=0.02)\n",
    "plt.imshow(noisy_image,cmap=plt.cm.gray)\n",
    "plt.show()"
   ]
  },
  {
   "cell_type": "markdown",
   "metadata": {},
   "source": [
    "We denoise this image by solving the *regularized least squares problem*,\n",
    "$$\n",
    "\\min_x  \\ \\|x-b\\|^2 + \\lambda\\| D x \\|^2 .\n",
    "$$\n",
    "Now the matrix $D$ is more difficult to construct. We use the [Kronecker product](https://docs.scipy.org/doc/scipy/reference/generated/scipy.sparse.kron.html). "
   ]
  },
  {
   "cell_type": "code",
   "execution_count": null,
   "metadata": {
    "collapsed": true
   },
   "outputs": [],
   "source": [
    "n = image.shape[0]\n",
    "I = sparse.identity(n)\n",
    "D = sparse.diags([np.ones(n-1), -np.ones(n-1)], [1, 0],shape=[n-1,n], format=\"csr\")\n",
    "D2 = sparse.kron(I,D) + sparse.kron(D,I)"
   ]
  },
  {
   "cell_type": "markdown",
   "metadata": {},
   "source": [
    "As before, we solve the regularized least squares problem, \n",
    "$$\n",
    "(I + \\lambda D^t D) x = b. \n",
    "$$\n",
    "We choose the parameter $\\lambda = \\frac{1}{2}$. "
   ]
  },
  {
   "cell_type": "code",
   "execution_count": null,
   "metadata": {
    "collapsed": true
   },
   "outputs": [],
   "source": [
    "A = sparse.identity(n**2) + .5*D2.transpose()@D2\n",
    "RHS = np.reshape(noisy_image,[n**2,1])\n",
    "\n",
    "image_denoised = sp.sparse.linalg.spsolve(A,RHS)\n",
    "image_denoised = np.reshape(image_denoised,[n,n])\n",
    "\n",
    "plt.imshow(image_denoised,cmap=plt.cm.gray)\n",
    "plt.show()"
   ]
  },
  {
   "cell_type": "markdown",
   "metadata": {},
   "source": [
    "There are more sophisticated methods for image denoising, still based on optimization! For example, we can use the [`denoise_tv_chambolle`](http://scikit-image.org/docs/dev/api/skimage.restoration.html#skimage.restoration.denoise_tv_chambolle) function from scikit-image to denoise this image. "
   ]
  },
  {
   "cell_type": "code",
   "execution_count": null,
   "metadata": {
    "collapsed": true
   },
   "outputs": [],
   "source": [
    "from skimage.restoration import denoise_tv_chambolle\n",
    "\n",
    "image_denoised_tv = denoise_tv_chambolle(noisy_image, weight=0.1)\n",
    "plt.imshow(image_denoised_tv,cmap=plt.cm.gray)\n",
    "plt.show()"
   ]
  },
  {
   "cell_type": "markdown",
   "metadata": {},
   "source": [
    "See [this scikit-image page](http://scikit-image.org/docs/dev/auto_examples/filters/plot_denoise.html) for other denoising methods and more information."
   ]
  }
 ],
 "metadata": {
  "anaconda-cloud": {},
  "kernelspec": {
   "display_name": "Python 2",
   "language": "python",
   "name": "python2"
  },
  "language_info": {
   "codemirror_mode": {
    "name": "ipython",
    "version": 2
   },
   "file_extension": ".py",
   "mimetype": "text/x-python",
   "name": "python",
   "nbconvert_exporter": "python",
   "pygments_lexer": "ipython2",
   "version": "2.7.14"
  }
 },
 "nbformat": 4,
 "nbformat_minor": 1
}
